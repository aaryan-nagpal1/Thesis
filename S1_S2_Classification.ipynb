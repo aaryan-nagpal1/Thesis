{
 "cells": [
  {
   "cell_type": "code",
   "execution_count": 23,
   "id": "5f3f7bda",
   "metadata": {},
   "outputs": [
    {
     "name": "stdout",
     "output_type": "stream",
     "text": [
      "\n",
      "🔍 Processing: S1_P05\n",
      "✅ Available features: ['ID', 'Study', 'Label', 'UNIX', 'EAR_mean', 'MAR_inner', 'MAR_outer', 'AU01_r', 'AU15_r', 'AU25_r', 'AU26_r', 'AU45_r', 'pose_Tx', 'pose_Ty', 'pose_Tz', 'pose_Rx', 'pose_Ry', 'pose_Rz', 'gaze_angle_x', 'gaze_angle_y', 'swAngle', 'laneDevPosition', 'laneDev_OffsetfrmLaneCentre', 'speed']\n",
      "🧮 Rows after filter: 65148\n",
      "🪟 Valid windows: 433\n",
      "\n",
      "🔍 Processing: S1_P11\n",
      "✅ Available features: ['ID', 'Study', 'Label', 'UNIX', 'EAR_mean', 'MAR_inner', 'MAR_outer', 'AU01_r', 'AU15_r', 'AU25_r', 'AU26_r', 'AU45_r', 'pose_Tx', 'pose_Ty', 'pose_Tz', 'pose_Rx', 'pose_Ry', 'pose_Rz', 'gaze_angle_x', 'gaze_angle_y', 'swAngle', 'laneDevPosition', 'laneDev_OffsetfrmLaneCentre', 'speed']\n",
      "🧮 Rows after filter: 53856\n",
      "🪟 Valid windows: 358\n",
      "\n",
      "🔍 Processing: S1_P10\n",
      "✅ Available features: ['ID', 'Study', 'Label', 'UNIX', 'EAR_mean', 'MAR_inner', 'MAR_outer', 'AU01_r', 'AU15_r', 'AU25_r', 'AU26_r', 'AU45_r', 'pose_Tx', 'pose_Ty', 'pose_Tz', 'pose_Rx', 'pose_Ry', 'pose_Rz', 'gaze_angle_x', 'gaze_angle_y', 'swAngle', 'laneDevPosition', 'laneDev_OffsetfrmLaneCentre', 'speed']\n",
      "🧮 Rows after filter: 55534\n",
      "🪟 Valid windows: 369\n",
      "\n",
      "🔍 Processing: S1_P04\n",
      "✅ Available features: ['ID', 'Study', 'Label', 'UNIX', 'EAR_mean', 'MAR_inner', 'MAR_outer', 'AU01_r', 'AU15_r', 'AU25_r', 'AU26_r', 'AU45_r', 'pose_Tx', 'pose_Ty', 'pose_Tz', 'pose_Rx', 'pose_Ry', 'pose_Rz', 'gaze_angle_x', 'gaze_angle_y', 'swAngle', 'laneDevPosition', 'laneDev_OffsetfrmLaneCentre', 'speed']\n",
      "🧮 Rows after filter: 23241\n",
      "🪟 Valid windows: 153\n",
      "\n",
      "🔍 Processing: S1_P12\n",
      "✅ Available features: ['ID', 'Study', 'Label', 'UNIX', 'EAR_mean', 'MAR_inner', 'MAR_outer', 'AU01_r', 'AU15_r', 'AU25_r', 'AU26_r', 'AU45_r', 'pose_Tx', 'pose_Ty', 'pose_Tz', 'pose_Rx', 'pose_Ry', 'pose_Rz', 'gaze_angle_x', 'gaze_angle_y', 'swAngle', 'laneDevPosition', 'laneDev_OffsetfrmLaneCentre', 'speed']\n",
      "🧮 Rows after filter: 48394\n",
      "🪟 Valid windows: 321\n",
      "\n",
      "🔍 Processing: S1_P07\n",
      "✅ Available features: ['ID', 'Study', 'Label', 'UNIX', 'EAR_mean', 'MAR_inner', 'MAR_outer', 'AU01_r', 'AU15_r', 'AU25_r', 'AU26_r', 'AU45_r', 'pose_Tx', 'pose_Ty', 'pose_Tz', 'pose_Rx', 'pose_Ry', 'pose_Rz', 'gaze_angle_x', 'gaze_angle_y', 'swAngle', 'laneDevPosition', 'laneDev_OffsetfrmLaneCentre', 'speed']\n",
      "🧮 Rows after filter: 62795\n",
      "🪟 Valid windows: 417\n",
      "\n",
      "🔍 Processing: S1_P13\n",
      "✅ Available features: ['ID', 'Study', 'Label', 'UNIX', 'EAR_mean', 'MAR_inner', 'MAR_outer', 'AU01_r', 'AU15_r', 'AU25_r', 'AU26_r', 'AU45_r', 'pose_Tx', 'pose_Ty', 'pose_Tz', 'pose_Rx', 'pose_Ry', 'pose_Rz', 'gaze_angle_x', 'gaze_angle_y', 'swAngle', 'laneDevPosition', 'laneDev_OffsetfrmLaneCentre', 'speed']\n",
      "🧮 Rows after filter: 25047\n",
      "🪟 Valid windows: 165\n",
      "\n",
      "🔍 Processing: S1_P17\n",
      "✅ Available features: ['ID', 'Study', 'Label', 'UNIX', 'EAR_mean', 'MAR_inner', 'MAR_outer', 'AU01_r', 'AU15_r', 'AU25_r', 'AU26_r', 'AU45_r', 'pose_Tx', 'pose_Ty', 'pose_Tz', 'pose_Rx', 'pose_Ry', 'pose_Rz', 'gaze_angle_x', 'gaze_angle_y', 'swAngle', 'laneDevPosition', 'laneDev_OffsetfrmLaneCentre', 'speed']\n",
      "🧮 Rows after filter: 31530\n",
      "🪟 Valid windows: 209\n",
      "\n",
      "🔍 Processing: S1_P03\n",
      "✅ Available features: ['ID', 'Study', 'Label', 'UNIX', 'EAR_mean', 'MAR_inner', 'MAR_outer', 'AU01_r', 'AU15_r', 'AU25_r', 'AU26_r', 'AU45_r', 'pose_Tx', 'pose_Ty', 'pose_Tz', 'pose_Rx', 'pose_Ry', 'pose_Rz', 'gaze_angle_x', 'gaze_angle_y', 'swAngle', 'laneDevPosition', 'laneDev_OffsetfrmLaneCentre', 'speed']\n",
      "🧮 Rows after filter: 64936\n",
      "🪟 Valid windows: 431\n",
      "\n",
      "🔍 Processing: S1_P16\n",
      "✅ Available features: ['ID', 'Study', 'Label', 'UNIX', 'EAR_mean', 'MAR_inner', 'MAR_outer', 'AU01_r', 'AU15_r', 'AU25_r', 'AU26_r', 'AU45_r', 'pose_Tx', 'pose_Ty', 'pose_Tz', 'pose_Rx', 'pose_Ry', 'pose_Rz', 'gaze_angle_x', 'gaze_angle_y', 'swAngle', 'laneDevPosition', 'laneDev_OffsetfrmLaneCentre', 'speed']\n",
      "🧮 Rows after filter: 25125\n",
      "🪟 Valid windows: 166\n",
      "\n",
      "🔍 Processing: S2_P48\n",
      "✅ Available features: ['ID', 'Study', 'Label', 'UNIX', 'EAR_mean', 'MAR_inner', 'MAR_outer', 'AU01_r', 'AU15_r', 'AU25_r', 'AU26_r', 'AU45_r', 'pose_Tx', 'pose_Ty', 'pose_Tz', 'pose_Rx', 'pose_Ry', 'pose_Rz', 'gaze_angle_x', 'gaze_angle_y', 'swAngle', 'laneDevPosition', 'laneDev_OffsetfrmLaneCentre', 'speed']\n",
      "🧮 Rows after filter: 33788\n"
     ]
    },
    {
     "name": "stderr",
     "output_type": "stream",
     "text": [
      "/var/folders/jf/5xz625d149l3v37wvyxym4hm0000gn/T/ipykernel_40939/2920426291.py:32: DtypeWarning: Columns (38) have mixed types. Specify dtype option on import or set low_memory=False.\n",
      "  df = pd.read_csv(file_path)\n"
     ]
    },
    {
     "name": "stdout",
     "output_type": "stream",
     "text": [
      "🪟 Valid windows: 224\n",
      "\n",
      "🔍 Processing: S1_P14\n",
      "✅ Available features: ['ID', 'Study', 'Label', 'UNIX', 'EAR_mean', 'MAR_inner', 'MAR_outer', 'AU01_r', 'AU15_r', 'AU25_r', 'AU26_r', 'AU45_r', 'pose_Tx', 'pose_Ty', 'pose_Tz', 'pose_Rx', 'pose_Ry', 'pose_Rz', 'gaze_angle_x', 'gaze_angle_y', 'swAngle', 'laneDevPosition', 'laneDev_OffsetfrmLaneCentre', 'speed']\n",
      "🧮 Rows after filter: 37111\n",
      "🪟 Valid windows: 246\n",
      "\n",
      "🔍 Processing: S1_P28\n",
      "✅ Available features: ['ID', 'Study', 'Label', 'UNIX', 'EAR_mean', 'MAR_inner', 'MAR_outer', 'AU01_r', 'AU15_r', 'AU25_r', 'AU26_r', 'AU45_r', 'pose_Tx', 'pose_Ty', 'pose_Tz', 'pose_Rx', 'pose_Ry', 'pose_Rz', 'gaze_angle_x', 'gaze_angle_y', 'swAngle', 'laneDevPosition', 'laneDev_OffsetfrmLaneCentre', 'speed']\n",
      "🧮 Rows after filter: 26317\n",
      "🪟 Valid windows: 174\n",
      "\n",
      "🔍 Processing: S1_P29\n",
      "✅ Available features: ['ID', 'Study', 'Label', 'UNIX', 'EAR_mean', 'MAR_inner', 'MAR_outer', 'AU01_r', 'AU15_r', 'AU25_r', 'AU26_r', 'AU45_r', 'pose_Tx', 'pose_Ty', 'pose_Tz', 'pose_Rx', 'pose_Ry', 'pose_Rz', 'gaze_angle_x', 'gaze_angle_y', 'swAngle', 'laneDevPosition', 'laneDev_OffsetfrmLaneCentre', 'speed']\n",
      "🧮 Rows after filter: 32795\n",
      "🪟 Valid windows: 217\n",
      "\n",
      "🔍 Processing: S1_P15\n",
      "✅ Available features: ['ID', 'Study', 'Label', 'UNIX', 'EAR_mean', 'MAR_inner', 'MAR_outer', 'AU01_r', 'AU15_r', 'AU25_r', 'AU26_r', 'AU45_r', 'pose_Tx', 'pose_Ty', 'pose_Tz', 'pose_Rx', 'pose_Ry', 'pose_Rz', 'gaze_angle_x', 'gaze_angle_y', 'swAngle', 'laneDevPosition', 'laneDev_OffsetfrmLaneCentre', 'speed']\n",
      "🧮 Rows after filter: 42314\n",
      "🪟 Valid windows: 281\n"
     ]
    },
    {
     "name": "stderr",
     "output_type": "stream",
     "text": [
      "/var/folders/jf/5xz625d149l3v37wvyxym4hm0000gn/T/ipykernel_40939/2920426291.py:32: DtypeWarning: Columns (38) have mixed types. Specify dtype option on import or set low_memory=False.\n",
      "  df = pd.read_csv(file_path)\n"
     ]
    },
    {
     "name": "stdout",
     "output_type": "stream",
     "text": [
      "\n",
      "🔍 Processing: S2_P49\n",
      "✅ Available features: ['ID', 'Study', 'Label', 'UNIX', 'EAR_mean', 'MAR_inner', 'MAR_outer', 'AU01_r', 'AU15_r', 'AU25_r', 'AU26_r', 'AU45_r', 'pose_Tx', 'pose_Ty', 'pose_Tz', 'pose_Rx', 'pose_Ry', 'pose_Rz', 'gaze_angle_x', 'gaze_angle_y', 'swAngle', 'laneDevPosition', 'laneDev_OffsetfrmLaneCentre', 'speed']\n",
      "🧮 Rows after filter: 24597\n",
      "🪟 Valid windows: 162\n"
     ]
    },
    {
     "name": "stderr",
     "output_type": "stream",
     "text": [
      "/var/folders/jf/5xz625d149l3v37wvyxym4hm0000gn/T/ipykernel_40939/2920426291.py:32: DtypeWarning: Columns (38) have mixed types. Specify dtype option on import or set low_memory=False.\n",
      "  df = pd.read_csv(file_path)\n"
     ]
    },
    {
     "name": "stdout",
     "output_type": "stream",
     "text": [
      "\n",
      "🔍 Processing: S2_P12\n",
      "✅ Available features: ['ID', 'Study', 'Label', 'UNIX', 'EAR_mean', 'MAR_inner', 'MAR_outer', 'AU01_r', 'AU15_r', 'AU25_r', 'AU26_r', 'AU45_r', 'pose_Tx', 'pose_Ty', 'pose_Tz', 'pose_Rx', 'pose_Ry', 'pose_Rz', 'gaze_angle_x', 'gaze_angle_y', 'swAngle', 'laneDevPosition', 'laneDev_OffsetfrmLaneCentre', 'speed']\n",
      "🧮 Rows after filter: 24884\n",
      "🪟 Valid windows: 164\n"
     ]
    },
    {
     "name": "stderr",
     "output_type": "stream",
     "text": [
      "/var/folders/jf/5xz625d149l3v37wvyxym4hm0000gn/T/ipykernel_40939/2920426291.py:32: DtypeWarning: Columns (38) have mixed types. Specify dtype option on import or set low_memory=False.\n",
      "  df = pd.read_csv(file_path)\n"
     ]
    },
    {
     "name": "stdout",
     "output_type": "stream",
     "text": [
      "\n",
      "🔍 Processing: S2_P13\n",
      "✅ Available features: ['ID', 'Study', 'Label', 'UNIX', 'EAR_mean', 'MAR_inner', 'MAR_outer', 'AU01_r', 'AU15_r', 'AU25_r', 'AU26_r', 'AU45_r', 'pose_Tx', 'pose_Ty', 'pose_Tz', 'pose_Rx', 'pose_Ry', 'pose_Rz', 'gaze_angle_x', 'gaze_angle_y', 'swAngle', 'laneDevPosition', 'laneDev_OffsetfrmLaneCentre', 'speed']\n",
      "🧮 Rows after filter: 42065\n",
      "🪟 Valid windows: 279\n",
      "\n",
      "🔍 Processing: S2_P39\n",
      "✅ Available features: ['ID', 'Study', 'Label', 'UNIX', 'EAR_mean', 'MAR_inner', 'MAR_outer', 'AU01_r', 'AU15_r', 'AU25_r', 'AU26_r', 'AU45_r', 'pose_Tx', 'pose_Ty', 'pose_Tz', 'pose_Rx', 'pose_Ry', 'pose_Rz', 'gaze_angle_x', 'gaze_angle_y', 'swAngle', 'laneDevPosition', 'laneDev_OffsetfrmLaneCentre', 'speed']\n",
      "🧮 Rows after filter: 25116\n"
     ]
    },
    {
     "name": "stderr",
     "output_type": "stream",
     "text": [
      "/var/folders/jf/5xz625d149l3v37wvyxym4hm0000gn/T/ipykernel_40939/2920426291.py:32: DtypeWarning: Columns (38) have mixed types. Specify dtype option on import or set low_memory=False.\n",
      "  df = pd.read_csv(file_path)\n"
     ]
    },
    {
     "name": "stdout",
     "output_type": "stream",
     "text": [
      "🪟 Valid windows: 166\n",
      "\n",
      "🔍 Processing: S2_P04\n",
      "✅ Available features: ['ID', 'Study', 'Label', 'UNIX', 'EAR_mean', 'MAR_inner', 'MAR_outer', 'AU01_r', 'AU15_r', 'AU25_r', 'AU26_r', 'AU45_r', 'pose_Tx', 'pose_Ty', 'pose_Tz', 'pose_Rx', 'pose_Ry', 'pose_Rz', 'gaze_angle_x', 'gaze_angle_y', 'swAngle', 'laneDevPosition', 'laneDev_OffsetfrmLaneCentre', 'speed']\n",
      "🧮 Rows after filter: 41650\n"
     ]
    },
    {
     "name": "stderr",
     "output_type": "stream",
     "text": [
      "/var/folders/jf/5xz625d149l3v37wvyxym4hm0000gn/T/ipykernel_40939/2920426291.py:32: DtypeWarning: Columns (38) have mixed types. Specify dtype option on import or set low_memory=False.\n",
      "  df = pd.read_csv(file_path)\n"
     ]
    },
    {
     "name": "stdout",
     "output_type": "stream",
     "text": [
      "🪟 Valid windows: 276\n",
      "\n",
      "🔍 Processing: S2_P38\n",
      "✅ Available features: ['ID', 'Study', 'Label', 'UNIX', 'EAR_mean', 'MAR_inner', 'MAR_outer', 'AU01_r', 'AU15_r', 'AU25_r', 'AU26_r', 'AU45_r', 'pose_Tx', 'pose_Ty', 'pose_Tz', 'pose_Rx', 'pose_Ry', 'pose_Rz', 'gaze_angle_x', 'gaze_angle_y', 'swAngle', 'laneDevPosition', 'laneDev_OffsetfrmLaneCentre', 'speed']\n",
      "🧮 Rows after filter: 24790\n"
     ]
    },
    {
     "name": "stderr",
     "output_type": "stream",
     "text": [
      "/var/folders/jf/5xz625d149l3v37wvyxym4hm0000gn/T/ipykernel_40939/2920426291.py:32: DtypeWarning: Columns (38) have mixed types. Specify dtype option on import or set low_memory=False.\n",
      "  df = pd.read_csv(file_path)\n"
     ]
    },
    {
     "name": "stdout",
     "output_type": "stream",
     "text": [
      "🪟 Valid windows: 164\n",
      "\n",
      "🔍 Processing: S2_P28\n",
      "✅ Available features: ['ID', 'Study', 'Label', 'UNIX', 'EAR_mean', 'MAR_inner', 'MAR_outer', 'AU01_r', 'AU15_r', 'AU25_r', 'AU26_r', 'AU45_r', 'pose_Tx', 'pose_Ty', 'pose_Tz', 'pose_Rx', 'pose_Ry', 'pose_Rz', 'gaze_angle_x', 'gaze_angle_y', 'swAngle', 'laneDevPosition', 'laneDev_OffsetfrmLaneCentre', 'speed']\n",
      "🧮 Rows after filter: 26420\n"
     ]
    },
    {
     "name": "stderr",
     "output_type": "stream",
     "text": [
      "/var/folders/jf/5xz625d149l3v37wvyxym4hm0000gn/T/ipykernel_40939/2920426291.py:32: DtypeWarning: Columns (38) have mixed types. Specify dtype option on import or set low_memory=False.\n",
      "  df = pd.read_csv(file_path)\n"
     ]
    },
    {
     "name": "stdout",
     "output_type": "stream",
     "text": [
      "🪟 Valid windows: 175\n",
      "\n",
      "🔍 Processing: S2_P29\n",
      "✅ Available features: ['ID', 'Study', 'Label', 'UNIX', 'EAR_mean', 'MAR_inner', 'MAR_outer', 'AU01_r', 'AU15_r', 'AU25_r', 'AU26_r', 'AU45_r', 'pose_Tx', 'pose_Ty', 'pose_Tz', 'pose_Rx', 'pose_Ry', 'pose_Rz', 'gaze_angle_x', 'gaze_angle_y', 'swAngle', 'laneDevPosition', 'laneDev_OffsetfrmLaneCentre', 'speed']\n",
      "🧮 Rows after filter: 25740\n"
     ]
    },
    {
     "name": "stderr",
     "output_type": "stream",
     "text": [
      "/var/folders/jf/5xz625d149l3v37wvyxym4hm0000gn/T/ipykernel_40939/2920426291.py:32: DtypeWarning: Columns (38) have mixed types. Specify dtype option on import or set low_memory=False.\n",
      "  df = pd.read_csv(file_path)\n"
     ]
    },
    {
     "name": "stdout",
     "output_type": "stream",
     "text": [
      "🪟 Valid windows: 170\n",
      "\n",
      "🔍 Processing: S2_P15\n",
      "✅ Available features: ['ID', 'Study', 'Label', 'UNIX', 'EAR_mean', 'MAR_inner', 'MAR_outer', 'AU01_r', 'AU15_r', 'AU25_r', 'AU26_r', 'AU45_r', 'pose_Tx', 'pose_Ty', 'pose_Tz', 'pose_Rx', 'pose_Ry', 'pose_Rz', 'gaze_angle_x', 'gaze_angle_y', 'swAngle', 'laneDevPosition', 'laneDev_OffsetfrmLaneCentre', 'speed']\n",
      "🧮 Rows after filter: 26499\n"
     ]
    },
    {
     "name": "stderr",
     "output_type": "stream",
     "text": [
      "/var/folders/jf/5xz625d149l3v37wvyxym4hm0000gn/T/ipykernel_40939/2920426291.py:32: DtypeWarning: Columns (38) have mixed types. Specify dtype option on import or set low_memory=False.\n",
      "  df = pd.read_csv(file_path)\n"
     ]
    },
    {
     "name": "stdout",
     "output_type": "stream",
     "text": [
      "🪟 Valid windows: 173\n",
      "\n",
      "🔍 Processing: S2_P17\n",
      "✅ Available features: ['ID', 'Study', 'Label', 'UNIX', 'EAR_mean', 'MAR_inner', 'MAR_outer', 'AU01_r', 'AU15_r', 'AU25_r', 'AU26_r', 'AU45_r', 'pose_Tx', 'pose_Ty', 'pose_Tz', 'pose_Rx', 'pose_Ry', 'pose_Rz', 'gaze_angle_x', 'gaze_angle_y', 'swAngle', 'laneDevPosition', 'laneDev_OffsetfrmLaneCentre', 'speed']\n",
      "🧮 Rows after filter: 24447\n"
     ]
    },
    {
     "name": "stderr",
     "output_type": "stream",
     "text": [
      "/var/folders/jf/5xz625d149l3v37wvyxym4hm0000gn/T/ipykernel_40939/2920426291.py:32: DtypeWarning: Columns (38) have mixed types. Specify dtype option on import or set low_memory=False.\n",
      "  df = pd.read_csv(file_path)\n"
     ]
    },
    {
     "name": "stdout",
     "output_type": "stream",
     "text": [
      "🪟 Valid windows: 161\n",
      "\n",
      "🔍 Processing: S2_P33\n",
      "✅ Available features: ['ID', 'Study', 'Label', 'UNIX', 'EAR_mean', 'MAR_inner', 'MAR_outer', 'AU01_r', 'AU15_r', 'AU25_r', 'AU26_r', 'AU45_r', 'pose_Tx', 'pose_Ty', 'pose_Tz', 'pose_Rx', 'pose_Ry', 'pose_Rz', 'gaze_angle_x', 'gaze_angle_y', 'swAngle', 'laneDevPosition', 'laneDev_OffsetfrmLaneCentre', 'speed']\n",
      "🧮 Rows after filter: 29279\n"
     ]
    },
    {
     "name": "stderr",
     "output_type": "stream",
     "text": [
      "/var/folders/jf/5xz625d149l3v37wvyxym4hm0000gn/T/ipykernel_40939/2920426291.py:32: DtypeWarning: Columns (38) have mixed types. Specify dtype option on import or set low_memory=False.\n",
      "  df = pd.read_csv(file_path)\n"
     ]
    },
    {
     "name": "stdout",
     "output_type": "stream",
     "text": [
      "🪟 Valid windows: 194\n",
      "\n",
      "🔍 Processing: S2_P27\n",
      "✅ Available features: ['ID', 'Study', 'Label', 'UNIX', 'EAR_mean', 'MAR_inner', 'MAR_outer', 'AU01_r', 'AU15_r', 'AU25_r', 'AU26_r', 'AU45_r', 'pose_Tx', 'pose_Ty', 'pose_Tz', 'pose_Rx', 'pose_Ry', 'pose_Rz', 'gaze_angle_x', 'gaze_angle_y', 'swAngle', 'laneDevPosition', 'laneDev_OffsetfrmLaneCentre', 'speed']\n",
      "🧮 Rows after filter: 24447\n"
     ]
    },
    {
     "name": "stderr",
     "output_type": "stream",
     "text": [
      "/var/folders/jf/5xz625d149l3v37wvyxym4hm0000gn/T/ipykernel_40939/2920426291.py:32: DtypeWarning: Columns (38) have mixed types. Specify dtype option on import or set low_memory=False.\n",
      "  df = pd.read_csv(file_path)\n"
     ]
    },
    {
     "name": "stdout",
     "output_type": "stream",
     "text": [
      "🪟 Valid windows: 161\n",
      "\n",
      "🔍 Processing: S2_P26\n",
      "✅ Available features: ['ID', 'Study', 'Label', 'UNIX', 'EAR_mean', 'MAR_inner', 'MAR_outer', 'AU01_r', 'AU15_r', 'AU25_r', 'AU26_r', 'AU45_r', 'pose_Tx', 'pose_Ty', 'pose_Tz', 'pose_Rx', 'pose_Ry', 'pose_Rz', 'gaze_angle_x', 'gaze_angle_y', 'swAngle', 'laneDevPosition', 'laneDev_OffsetfrmLaneCentre', 'speed']\n",
      "🧮 Rows after filter: 37349\n"
     ]
    },
    {
     "name": "stderr",
     "output_type": "stream",
     "text": [
      "/var/folders/jf/5xz625d149l3v37wvyxym4hm0000gn/T/ipykernel_40939/2920426291.py:32: DtypeWarning: Columns (38) have mixed types. Specify dtype option on import or set low_memory=False.\n",
      "  df = pd.read_csv(file_path)\n"
     ]
    },
    {
     "name": "stdout",
     "output_type": "stream",
     "text": [
      "🪟 Valid windows: 247\n",
      "\n",
      "🔍 Processing: S2_P32\n"
     ]
    },
    {
     "name": "stderr",
     "output_type": "stream",
     "text": [
      "/var/folders/jf/5xz625d149l3v37wvyxym4hm0000gn/T/ipykernel_40939/2920426291.py:32: DtypeWarning: Columns (38) have mixed types. Specify dtype option on import or set low_memory=False.\n",
      "  df = pd.read_csv(file_path)\n"
     ]
    },
    {
     "name": "stdout",
     "output_type": "stream",
     "text": [
      "✅ Available features: ['ID', 'Study', 'Label', 'UNIX', 'EAR_mean', 'MAR_inner', 'MAR_outer', 'AU01_r', 'AU15_r', 'AU25_r', 'AU26_r', 'AU45_r', 'pose_Tx', 'pose_Ty', 'pose_Tz', 'pose_Rx', 'pose_Ry', 'pose_Rz', 'gaze_angle_x', 'gaze_angle_y', 'swAngle', 'laneDevPosition', 'laneDev_OffsetfrmLaneCentre', 'speed']\n",
      "🧮 Rows after filter: 24999\n",
      "🪟 Valid windows: 165\n"
     ]
    },
    {
     "name": "stderr",
     "output_type": "stream",
     "text": [
      "/var/folders/jf/5xz625d149l3v37wvyxym4hm0000gn/T/ipykernel_40939/2920426291.py:32: DtypeWarning: Columns (38) have mixed types. Specify dtype option on import or set low_memory=False.\n",
      "  df = pd.read_csv(file_path)\n"
     ]
    },
    {
     "name": "stdout",
     "output_type": "stream",
     "text": [
      "\n",
      "🔍 Processing: S2_P18\n",
      "✅ Available features: ['ID', 'Study', 'Label', 'UNIX', 'EAR_mean', 'MAR_inner', 'MAR_outer', 'AU01_r', 'AU15_r', 'AU25_r', 'AU26_r', 'AU45_r', 'pose_Tx', 'pose_Ty', 'pose_Tz', 'pose_Rx', 'pose_Ry', 'pose_Rz', 'gaze_angle_x', 'gaze_angle_y', 'swAngle', 'laneDevPosition', 'laneDev_OffsetfrmLaneCentre', 'speed']\n",
      "🧮 Rows after filter: 42148\n",
      "🪟 Valid windows: 279\n",
      "\n",
      "🔍 Processing: S2_P24\n",
      "✅ Available features: ['ID', 'Study', 'Label', 'UNIX', 'EAR_mean', 'MAR_inner', 'MAR_outer', 'AU01_r', 'AU15_r', 'AU25_r', 'AU26_r', 'AU45_r', 'pose_Tx', 'pose_Ty', 'pose_Tz', 'pose_Rx', 'pose_Ry', 'pose_Rz', 'gaze_angle_x', 'gaze_angle_y', 'swAngle', 'laneDevPosition', 'laneDev_OffsetfrmLaneCentre', 'speed']\n",
      "🧮 Rows after filter: 42149\n"
     ]
    },
    {
     "name": "stderr",
     "output_type": "stream",
     "text": [
      "/var/folders/jf/5xz625d149l3v37wvyxym4hm0000gn/T/ipykernel_40939/2920426291.py:32: DtypeWarning: Columns (38) have mixed types. Specify dtype option on import or set low_memory=False.\n",
      "  df = pd.read_csv(file_path)\n"
     ]
    },
    {
     "name": "stdout",
     "output_type": "stream",
     "text": [
      "🪟 Valid windows: 279\n",
      "\n",
      "🔍 Processing: S2_P30\n",
      "✅ Available features: ['ID', 'Study', 'Label', 'UNIX', 'EAR_mean', 'MAR_inner', 'MAR_outer', 'AU01_r', 'AU15_r', 'AU25_r', 'AU26_r', 'AU45_r', 'pose_Tx', 'pose_Ty', 'pose_Tz', 'pose_Rx', 'pose_Ry', 'pose_Rz', 'gaze_angle_x', 'gaze_angle_y', 'swAngle', 'laneDevPosition', 'laneDev_OffsetfrmLaneCentre', 'speed']\n",
      "🧮 Rows after filter: 25340\n"
     ]
    },
    {
     "name": "stderr",
     "output_type": "stream",
     "text": [
      "/var/folders/jf/5xz625d149l3v37wvyxym4hm0000gn/T/ipykernel_40939/2920426291.py:32: DtypeWarning: Columns (38) have mixed types. Specify dtype option on import or set low_memory=False.\n",
      "  df = pd.read_csv(file_path)\n"
     ]
    },
    {
     "name": "stdout",
     "output_type": "stream",
     "text": [
      "🪟 Valid windows: 167\n",
      "\n",
      "🔍 Processing: S2_P31\n",
      "✅ Available features: ['ID', 'Study', 'Label', 'UNIX', 'EAR_mean', 'MAR_inner', 'MAR_outer', 'AU01_r', 'AU15_r', 'AU25_r', 'AU26_r', 'AU45_r', 'pose_Tx', 'pose_Ty', 'pose_Tz', 'pose_Rx', 'pose_Ry', 'pose_Rz', 'gaze_angle_x', 'gaze_angle_y', 'swAngle', 'laneDevPosition', 'laneDev_OffsetfrmLaneCentre', 'speed']\n",
      "🧮 Rows after filter: 27669\n"
     ]
    },
    {
     "name": "stderr",
     "output_type": "stream",
     "text": [
      "/var/folders/jf/5xz625d149l3v37wvyxym4hm0000gn/T/ipykernel_40939/2920426291.py:32: DtypeWarning: Columns (38) have mixed types. Specify dtype option on import or set low_memory=False.\n",
      "  df = pd.read_csv(file_path)\n"
     ]
    },
    {
     "name": "stdout",
     "output_type": "stream",
     "text": [
      "🪟 Valid windows: 183\n",
      "\n",
      "🔍 Processing: S2_P19\n",
      "✅ Available features: ['ID', 'Study', 'Label', 'UNIX', 'EAR_mean', 'MAR_inner', 'MAR_outer', 'AU01_r', 'AU15_r', 'AU25_r', 'AU26_r', 'AU45_r', 'pose_Tx', 'pose_Ty', 'pose_Tz', 'pose_Rx', 'pose_Ry', 'pose_Rz', 'gaze_angle_x', 'gaze_angle_y', 'swAngle', 'laneDevPosition', 'laneDev_OffsetfrmLaneCentre', 'speed']\n",
      "🧮 Rows after filter: 38459\n"
     ]
    },
    {
     "name": "stderr",
     "output_type": "stream",
     "text": [
      "/var/folders/jf/5xz625d149l3v37wvyxym4hm0000gn/T/ipykernel_40939/2920426291.py:32: DtypeWarning: Columns (38) have mixed types. Specify dtype option on import or set low_memory=False.\n",
      "  df = pd.read_csv(file_path)\n"
     ]
    },
    {
     "name": "stdout",
     "output_type": "stream",
     "text": [
      "🪟 Valid windows: 255\n",
      "\n",
      "🔍 Processing: S2_P21\n",
      "✅ Available features: ['ID', 'Study', 'Label', 'UNIX', 'EAR_mean', 'MAR_inner', 'MAR_outer', 'AU01_r', 'AU15_r', 'AU25_r', 'AU26_r', 'AU45_r', 'pose_Tx', 'pose_Ty', 'pose_Tz', 'pose_Rx', 'pose_Ry', 'pose_Rz', 'gaze_angle_x', 'gaze_angle_y', 'swAngle', 'laneDevPosition', 'laneDev_OffsetfrmLaneCentre', 'speed']\n",
      "🧮 Rows after filter: 20799\n",
      "🪟 Valid windows: 137\n"
     ]
    },
    {
     "name": "stderr",
     "output_type": "stream",
     "text": [
      "/var/folders/jf/5xz625d149l3v37wvyxym4hm0000gn/T/ipykernel_40939/2920426291.py:32: DtypeWarning: Columns (38) have mixed types. Specify dtype option on import or set low_memory=False.\n",
      "  df = pd.read_csv(file_path)\n"
     ]
    },
    {
     "name": "stdout",
     "output_type": "stream",
     "text": [
      "\n",
      "🔍 Processing: S2_P35\n",
      "✅ Available features: ['ID', 'Study', 'Label', 'UNIX', 'EAR_mean', 'MAR_inner', 'MAR_outer', 'AU01_r', 'AU15_r', 'AU25_r', 'AU26_r', 'AU45_r', 'pose_Tx', 'pose_Ty', 'pose_Tz', 'pose_Rx', 'pose_Ry', 'pose_Rz', 'gaze_angle_x', 'gaze_angle_y', 'swAngle', 'laneDevPosition', 'laneDev_OffsetfrmLaneCentre', 'speed']\n",
      "🧮 Rows after filter: 41998\n",
      "🪟 Valid windows: 278\n",
      "\n",
      "🔍 Processing: S2_P09\n",
      "✅ Available features: ['ID', 'Study', 'Label', 'UNIX', 'EAR_mean', 'MAR_inner', 'MAR_outer', 'AU01_r', 'AU15_r', 'AU25_r', 'AU26_r', 'AU45_r', 'pose_Tx', 'pose_Ty', 'pose_Tz', 'pose_Rx', 'pose_Ry', 'pose_Rz', 'gaze_angle_x', 'gaze_angle_y', 'swAngle', 'laneDevPosition', 'laneDev_OffsetfrmLaneCentre', 'speed']\n",
      "🧮 Rows after filter: 27387\n"
     ]
    },
    {
     "name": "stderr",
     "output_type": "stream",
     "text": [
      "/var/folders/jf/5xz625d149l3v37wvyxym4hm0000gn/T/ipykernel_40939/2920426291.py:32: DtypeWarning: Columns (38) have mixed types. Specify dtype option on import or set low_memory=False.\n",
      "  df = pd.read_csv(file_path)\n"
     ]
    },
    {
     "name": "stdout",
     "output_type": "stream",
     "text": [
      "🪟 Valid windows: 181\n",
      "\n",
      "🔍 Processing: S2_P34\n",
      "✅ Available features: ['ID', 'Study', 'Label', 'UNIX', 'EAR_mean', 'MAR_inner', 'MAR_outer', 'AU01_r', 'AU15_r', 'AU25_r', 'AU26_r', 'AU45_r', 'pose_Tx', 'pose_Ty', 'pose_Tz', 'pose_Rx', 'pose_Ry', 'pose_Rz', 'gaze_angle_x', 'gaze_angle_y', 'swAngle', 'laneDevPosition', 'laneDev_OffsetfrmLaneCentre', 'speed']\n",
      "🧮 Rows after filter: 33900\n"
     ]
    },
    {
     "name": "stderr",
     "output_type": "stream",
     "text": [
      "/var/folders/jf/5xz625d149l3v37wvyxym4hm0000gn/T/ipykernel_40939/2920426291.py:32: DtypeWarning: Columns (38) have mixed types. Specify dtype option on import or set low_memory=False.\n",
      "  df = pd.read_csv(file_path)\n"
     ]
    },
    {
     "name": "stdout",
     "output_type": "stream",
     "text": [
      "🪟 Valid windows: 224\n",
      "\n",
      "🔍 Processing: S2_P36\n",
      "✅ Available features: ['ID', 'Study', 'Label', 'UNIX', 'EAR_mean', 'MAR_inner', 'MAR_outer', 'AU01_r', 'AU15_r', 'AU25_r', 'AU26_r', 'AU45_r', 'pose_Tx', 'pose_Ty', 'pose_Tz', 'pose_Rx', 'pose_Ry', 'pose_Rz', 'gaze_angle_x', 'gaze_angle_y', 'swAngle', 'laneDevPosition', 'laneDev_OffsetfrmLaneCentre', 'speed']\n",
      "🧮 Rows after filter: 28049\n"
     ]
    },
    {
     "name": "stderr",
     "output_type": "stream",
     "text": [
      "/var/folders/jf/5xz625d149l3v37wvyxym4hm0000gn/T/ipykernel_40939/2920426291.py:32: DtypeWarning: Columns (38) have mixed types. Specify dtype option on import or set low_memory=False.\n",
      "  df = pd.read_csv(file_path)\n"
     ]
    },
    {
     "name": "stdout",
     "output_type": "stream",
     "text": [
      "🪟 Valid windows: 185\n",
      "\n",
      "🔍 Processing: S2_P22\n",
      "✅ Available features: ['ID', 'Study', 'Label', 'UNIX', 'EAR_mean', 'MAR_inner', 'MAR_outer', 'AU01_r', 'AU15_r', 'AU25_r', 'AU26_r', 'AU45_r', 'pose_Tx', 'pose_Ty', 'pose_Tz', 'pose_Rx', 'pose_Ry', 'pose_Rz', 'gaze_angle_x', 'gaze_angle_y', 'swAngle', 'laneDevPosition', 'laneDev_OffsetfrmLaneCentre', 'speed']\n",
      "🧮 Rows after filter: 25029\n"
     ]
    },
    {
     "name": "stderr",
     "output_type": "stream",
     "text": [
      "/var/folders/jf/5xz625d149l3v37wvyxym4hm0000gn/T/ipykernel_40939/2920426291.py:32: DtypeWarning: Columns (38) have mixed types. Specify dtype option on import or set low_memory=False.\n",
      "  df = pd.read_csv(file_path)\n"
     ]
    },
    {
     "name": "stdout",
     "output_type": "stream",
     "text": [
      "🪟 Valid windows: 165\n",
      "\n",
      "🔍 Processing: S2_P23\n",
      "✅ Available features: ['ID', 'Study', 'Label', 'UNIX', 'EAR_mean', 'MAR_inner', 'MAR_outer', 'AU01_r', 'AU15_r', 'AU25_r', 'AU26_r', 'AU45_r', 'pose_Tx', 'pose_Ty', 'pose_Tz', 'pose_Rx', 'pose_Ry', 'pose_Rz', 'gaze_angle_x', 'gaze_angle_y', 'swAngle', 'laneDevPosition', 'laneDev_OffsetfrmLaneCentre', 'speed']\n",
      "🧮 Rows after filter: 25010\n"
     ]
    },
    {
     "name": "stderr",
     "output_type": "stream",
     "text": [
      "/var/folders/jf/5xz625d149l3v37wvyxym4hm0000gn/T/ipykernel_40939/2920426291.py:32: DtypeWarning: Columns (38) have mixed types. Specify dtype option on import or set low_memory=False.\n",
      "  df = pd.read_csv(file_path)\n"
     ]
    },
    {
     "name": "stdout",
     "output_type": "stream",
     "text": [
      "🪟 Valid windows: 165\n",
      "\n",
      "🔍 Processing: S2_P37\n",
      "✅ Available features: ['ID', 'Study', 'Label', 'UNIX', 'EAR_mean', 'MAR_inner', 'MAR_outer', 'AU01_r', 'AU15_r', 'AU25_r', 'AU26_r', 'AU45_r', 'pose_Tx', 'pose_Ty', 'pose_Tz', 'pose_Rx', 'pose_Ry', 'pose_Rz', 'gaze_angle_x', 'gaze_angle_y', 'swAngle', 'laneDevPosition', 'laneDev_OffsetfrmLaneCentre', 'speed']\n",
      "🧮 Rows after filter: 36609\n"
     ]
    },
    {
     "name": "stderr",
     "output_type": "stream",
     "text": [
      "/var/folders/jf/5xz625d149l3v37wvyxym4hm0000gn/T/ipykernel_40939/2920426291.py:32: DtypeWarning: Columns (38) have mixed types. Specify dtype option on import or set low_memory=False.\n",
      "  df = pd.read_csv(file_path)\n"
     ]
    },
    {
     "name": "stdout",
     "output_type": "stream",
     "text": [
      "🪟 Valid windows: 243\n",
      "\n",
      "🔍 Processing: S2_P44\n",
      "✅ Available features: ['ID', 'Study', 'Label', 'UNIX', 'EAR_mean', 'MAR_inner', 'MAR_outer', 'AU01_r', 'AU15_r', 'AU25_r', 'AU26_r', 'AU45_r', 'pose_Tx', 'pose_Ty', 'pose_Tz', 'pose_Rx', 'pose_Ry', 'pose_Rz', 'gaze_angle_x', 'gaze_angle_y', 'swAngle', 'laneDevPosition', 'laneDev_OffsetfrmLaneCentre', 'speed']\n",
      "🧮 Rows after filter: 16459\n",
      "🪟 Valid windows: 108\n",
      "\n",
      "🔍 Processing: S1_P18\n",
      "✅ Available features: ['ID', 'Study', 'Label', 'UNIX', 'EAR_mean', 'MAR_inner', 'MAR_outer', 'AU01_r', 'AU15_r', 'AU25_r', 'AU26_r', 'AU45_r', 'pose_Tx', 'pose_Ty', 'pose_Tz', 'pose_Rx', 'pose_Ry', 'pose_Rz', 'gaze_angle_x', 'gaze_angle_y', 'swAngle', 'laneDevPosition', 'laneDev_OffsetfrmLaneCentre', 'speed']\n",
      "🧮 Rows after filter: 41144\n",
      "🪟 Valid windows: 273\n",
      "\n",
      "🔍 Processing: S1_P24\n",
      "✅ Available features: ['ID', 'Study', 'Label', 'UNIX', 'EAR_mean', 'MAR_inner', 'MAR_outer', 'AU01_r', 'AU15_r', 'AU25_r', 'AU26_r', 'AU45_r', 'pose_Tx', 'pose_Ty', 'pose_Tz', 'pose_Rx', 'pose_Ry', 'pose_Rz', 'gaze_angle_x', 'gaze_angle_y', 'swAngle', 'laneDevPosition', 'laneDev_OffsetfrmLaneCentre', 'speed']\n",
      "🧮 Rows after filter: 26891\n",
      "🪟 Valid windows: 178\n",
      "\n",
      "🔍 Processing: S1_P31\n",
      "✅ Available features: ['ID', 'Study', 'Label', 'UNIX', 'EAR_mean', 'MAR_inner', 'MAR_outer', 'AU01_r', 'AU15_r', 'AU25_r', 'AU26_r', 'AU45_r', 'pose_Tx', 'pose_Ty', 'pose_Tz', 'pose_Rx', 'pose_Ry', 'pose_Rz', 'gaze_angle_x', 'gaze_angle_y', 'swAngle', 'laneDevPosition', 'laneDev_OffsetfrmLaneCentre', 'speed']\n",
      "🧮 Rows after filter: 37141\n",
      "🪟 Valid windows: 246\n",
      "\n",
      "🔍 Processing: S1_P19\n",
      "✅ Available features: ['ID', 'Study', 'Label', 'UNIX', 'EAR_mean', 'MAR_inner', 'MAR_outer', 'AU01_r', 'AU15_r', 'AU25_r', 'AU26_r', 'AU45_r', 'pose_Tx', 'pose_Ty', 'pose_Tz', 'pose_Rx', 'pose_Ry', 'pose_Rz', 'gaze_angle_x', 'gaze_angle_y', 'swAngle', 'laneDevPosition', 'laneDev_OffsetfrmLaneCentre', 'speed']\n",
      "🧮 Rows after filter: 31536\n",
      "🪟 Valid windows: 209\n",
      "\n",
      "🔍 Processing: S2_P45\n",
      "✅ Available features: ['ID', 'Study', 'Label', 'UNIX', 'EAR_mean', 'MAR_inner', 'MAR_outer', 'AU01_r', 'AU15_r', 'AU25_r', 'AU26_r', 'AU45_r', 'pose_Tx', 'pose_Ty', 'pose_Tz', 'pose_Rx', 'pose_Ry', 'pose_Rz', 'gaze_angle_x', 'gaze_angle_y', 'swAngle', 'laneDevPosition', 'laneDev_OffsetfrmLaneCentre', 'speed']\n",
      "🧮 Rows after filter: 24239\n"
     ]
    },
    {
     "name": "stderr",
     "output_type": "stream",
     "text": [
      "/var/folders/jf/5xz625d149l3v37wvyxym4hm0000gn/T/ipykernel_40939/2920426291.py:32: DtypeWarning: Columns (38) have mixed types. Specify dtype option on import or set low_memory=False.\n",
      "  df = pd.read_csv(file_path)\n"
     ]
    },
    {
     "name": "stdout",
     "output_type": "stream",
     "text": [
      "🪟 Valid windows: 160\n",
      "\n",
      "🔍 Processing: S1_P33\n",
      "✅ Available features: ['ID', 'Study', 'Label', 'UNIX', 'EAR_mean', 'MAR_inner', 'MAR_outer', 'AU01_r', 'AU15_r', 'AU25_r', 'AU26_r', 'AU45_r', 'pose_Tx', 'pose_Ty', 'pose_Tz', 'pose_Rx', 'pose_Ry', 'pose_Rz', 'gaze_angle_x', 'gaze_angle_y', 'swAngle', 'laneDevPosition', 'laneDev_OffsetfrmLaneCentre', 'speed']\n",
      "🧮 Rows after filter: 32284\n",
      "🪟 Valid windows: 214\n",
      "\n",
      "🔍 Processing: S1_P27\n",
      "✅ Available features: ['ID', 'Study', 'Label', 'UNIX', 'EAR_mean', 'MAR_inner', 'MAR_outer', 'AU01_r', 'AU15_r', 'AU25_r', 'AU26_r', 'AU45_r', 'pose_Tx', 'pose_Ty', 'pose_Tz', 'pose_Rx', 'pose_Ry', 'pose_Rz', 'gaze_angle_x', 'gaze_angle_y', 'swAngle', 'laneDevPosition', 'laneDev_OffsetfrmLaneCentre', 'speed']\n",
      "🧮 Rows after filter: 46681\n",
      "🪟 Valid windows: 310\n",
      "\n",
      "🔍 Processing: S1_P26\n",
      "✅ Available features: ['ID', 'Study', 'Label', 'UNIX', 'EAR_mean', 'MAR_inner', 'MAR_outer', 'AU01_r', 'AU15_r', 'AU25_r', 'AU26_r', 'AU45_r', 'pose_Tx', 'pose_Ty', 'pose_Tz', 'pose_Rx', 'pose_Ry', 'pose_Rz', 'gaze_angle_x', 'gaze_angle_y', 'swAngle', 'laneDevPosition', 'laneDev_OffsetfrmLaneCentre', 'speed']\n",
      "🧮 Rows after filter: 48418\n",
      "🪟 Valid windows: 321\n",
      "\n",
      "🔍 Processing: S1_P32\n",
      "✅ Available features: ['ID', 'Study', 'Label', 'UNIX', 'EAR_mean', 'MAR_inner', 'MAR_outer', 'AU01_r', 'AU15_r', 'AU25_r', 'AU26_r', 'AU45_r', 'pose_Tx', 'pose_Ty', 'pose_Tz', 'pose_Rx', 'pose_Ry', 'pose_Rz', 'gaze_angle_x', 'gaze_angle_y', 'swAngle', 'laneDevPosition', 'laneDev_OffsetfrmLaneCentre', 'speed']\n",
      "🧮 Rows after filter: 47796\n",
      "🪟 Valid windows: 317\n",
      "\n",
      "🔍 Processing: S2_P46\n",
      "✅ Available features: ['ID', 'Study', 'Label', 'UNIX', 'EAR_mean', 'MAR_inner', 'MAR_outer', 'AU01_r', 'AU15_r', 'AU25_r', 'AU26_r', 'AU45_r', 'pose_Tx', 'pose_Ty', 'pose_Tz', 'pose_Rx', 'pose_Ry', 'pose_Rz', 'gaze_angle_x', 'gaze_angle_y', 'swAngle', 'laneDevPosition', 'laneDev_OffsetfrmLaneCentre', 'speed']\n",
      "🧮 Rows after filter: 17268\n",
      "🪟 Valid windows: 113\n"
     ]
    },
    {
     "name": "stderr",
     "output_type": "stream",
     "text": [
      "/var/folders/jf/5xz625d149l3v37wvyxym4hm0000gn/T/ipykernel_40939/2920426291.py:32: DtypeWarning: Columns (38) have mixed types. Specify dtype option on import or set low_memory=False.\n",
      "  df = pd.read_csv(file_path)\n"
     ]
    },
    {
     "name": "stdout",
     "output_type": "stream",
     "text": [
      "\n",
      "🔍 Processing: S2_P42\n",
      "✅ Available features: ['ID', 'Study', 'Label', 'UNIX', 'EAR_mean', 'MAR_inner', 'MAR_outer', 'AU01_r', 'AU15_r', 'AU25_r', 'AU26_r', 'AU45_r', 'pose_Tx', 'pose_Ty', 'pose_Tz', 'pose_Rx', 'pose_Ry', 'pose_Rz', 'gaze_angle_x', 'gaze_angle_y', 'swAngle', 'laneDevPosition', 'laneDev_OffsetfrmLaneCentre', 'speed']\n",
      "🧮 Rows after filter: 26079\n",
      "🪟 Valid windows: 172\n",
      "\n",
      "🔍 Processing: S1_P23\n",
      "✅ Available features: ['ID', 'Study', 'Label', 'UNIX', 'EAR_mean', 'MAR_inner', 'MAR_outer', 'AU01_r', 'AU15_r', 'AU25_r', 'AU26_r', 'AU45_r', 'pose_Tx', 'pose_Ty', 'pose_Tz', 'pose_Rx', 'pose_Ry', 'pose_Rz', 'gaze_angle_x', 'gaze_angle_y', 'swAngle', 'laneDevPosition', 'laneDev_OffsetfrmLaneCentre', 'speed']\n",
      "🧮 Rows after filter: 36012\n",
      "🪟 Valid windows: 239\n"
     ]
    },
    {
     "name": "stderr",
     "output_type": "stream",
     "text": [
      "/var/folders/jf/5xz625d149l3v37wvyxym4hm0000gn/T/ipykernel_40939/2920426291.py:32: DtypeWarning: Columns (38) have mixed types. Specify dtype option on import or set low_memory=False.\n",
      "  df = pd.read_csv(file_path)\n"
     ]
    },
    {
     "name": "stdout",
     "output_type": "stream",
     "text": [
      "\n",
      "🔍 Processing: S2_P43\n",
      "✅ Available features: ['ID', 'Study', 'Label', 'UNIX', 'EAR_mean', 'MAR_inner', 'MAR_outer', 'AU01_r', 'AU15_r', 'AU25_r', 'AU26_r', 'AU45_r', 'pose_Tx', 'pose_Ty', 'pose_Tz', 'pose_Rx', 'pose_Ry', 'pose_Rz', 'gaze_angle_x', 'gaze_angle_y', 'swAngle', 'laneDevPosition', 'laneDev_OffsetfrmLaneCentre', 'speed']\n",
      "🧮 Rows after filter: 24478\n",
      "🪟 Valid windows: 162\n",
      "\n",
      "🔍 Processing: S2_P41\n",
      "✅ Available features: ['ID', 'Study', 'Label', 'UNIX', 'EAR_mean', 'MAR_inner', 'MAR_outer', 'AU01_r', 'AU15_r', 'AU25_r', 'AU26_r', 'AU45_r', 'pose_Tx', 'pose_Ty', 'pose_Tz', 'pose_Rx', 'pose_Ry', 'pose_Rz', 'gaze_angle_x', 'gaze_angle_y', 'swAngle', 'laneDevPosition', 'laneDev_OffsetfrmLaneCentre', 'speed']\n",
      "🧮 Rows after filter: 15889\n",
      "🪟 Valid windows: 104\n",
      "\n",
      "🔍 Processing: S1_P21\n",
      "✅ Available features: ['ID', 'Study', 'Label', 'UNIX', 'EAR_mean', 'MAR_inner', 'MAR_outer', 'AU01_r', 'AU15_r', 'AU25_r', 'AU26_r', 'AU45_r', 'pose_Tx', 'pose_Ty', 'pose_Tz', 'pose_Rx', 'pose_Ry', 'pose_Rz', 'gaze_angle_x', 'gaze_angle_y', 'swAngle', 'laneDevPosition', 'laneDev_OffsetfrmLaneCentre', 'speed']\n",
      "🧮 Rows after filter: 30181\n",
      "🪟 Valid windows: 200\n",
      "\n",
      "🔍 Processing: S1_P35\n",
      "✅ Available features: ['ID', 'Study', 'Label', 'UNIX', 'EAR_mean', 'MAR_inner', 'MAR_outer', 'AU01_r', 'AU15_r', 'AU25_r', 'AU26_r', 'AU45_r', 'pose_Tx', 'pose_Ty', 'pose_Tz', 'pose_Rx', 'pose_Ry', 'pose_Rz', 'gaze_angle_x', 'gaze_angle_y', 'swAngle', 'laneDevPosition', 'laneDev_OffsetfrmLaneCentre', 'speed']\n",
      "🧮 Rows after filter: 34731\n",
      "🪟 Valid windows: 230\n",
      "\n",
      "🔍 Processing: S1_P09\n",
      "✅ Available features: ['ID', 'Study', 'Label', 'UNIX', 'EAR_mean', 'MAR_inner', 'MAR_outer', 'AU01_r', 'AU15_r', 'AU25_r', 'AU26_r', 'AU45_r', 'pose_Tx', 'pose_Ty', 'pose_Tz', 'pose_Rx', 'pose_Ry', 'pose_Rz', 'gaze_angle_x', 'gaze_angle_y', 'swAngle', 'laneDevPosition', 'laneDev_OffsetfrmLaneCentre', 'speed']\n",
      "🧮 Rows after filter: 52509\n",
      "🪟 Valid windows: 349\n",
      "\n",
      "🔍 Processing: S1_P08\n",
      "✅ Available features: ['ID', 'Study', 'Label', 'UNIX', 'EAR_mean', 'MAR_inner', 'MAR_outer', 'AU01_r', 'AU15_r', 'AU25_r', 'AU26_r', 'AU45_r', 'pose_Tx', 'pose_Ty', 'pose_Tz', 'pose_Rx', 'pose_Ry', 'pose_Rz', 'gaze_angle_x', 'gaze_angle_y', 'swAngle', 'laneDevPosition', 'laneDev_OffsetfrmLaneCentre', 'speed']\n",
      "🧮 Rows after filter: 59838\n",
      "🪟 Valid windows: 397\n",
      "\n",
      "🔍 Processing: S1_P34\n",
      "✅ Available features: ['ID', 'Study', 'Label', 'UNIX', 'EAR_mean', 'MAR_inner', 'MAR_outer', 'AU01_r', 'AU15_r', 'AU25_r', 'AU26_r', 'AU45_r', 'pose_Tx', 'pose_Ty', 'pose_Tz', 'pose_Rx', 'pose_Ry', 'pose_Rz', 'gaze_angle_x', 'gaze_angle_y', 'swAngle', 'laneDevPosition', 'laneDev_OffsetfrmLaneCentre', 'speed']\n",
      "🧮 Rows after filter: 35874\n",
      "🪟 Valid windows: 238\n",
      "\n",
      "🔍 Processing: S1_P20\n",
      "✅ Available features: ['ID', 'Study', 'Label', 'UNIX', 'EAR_mean', 'MAR_inner', 'MAR_outer', 'AU01_r', 'AU15_r', 'AU25_r', 'AU26_r', 'AU45_r', 'pose_Tx', 'pose_Ty', 'pose_Tz', 'pose_Rx', 'pose_Ry', 'pose_Rz', 'gaze_angle_x', 'gaze_angle_y', 'swAngle', 'laneDevPosition', 'laneDev_OffsetfrmLaneCentre', 'speed']\n",
      "🧮 Rows after filter: 37297\n",
      "🪟 Valid windows: 247\n",
      "\n",
      "🔍 Processing: S2_P40\n",
      "✅ Available features: ['ID', 'Study', 'Label', 'UNIX', 'EAR_mean', 'MAR_inner', 'MAR_outer', 'AU01_r', 'AU15_r', 'AU25_r', 'AU26_r', 'AU45_r', 'pose_Tx', 'pose_Ty', 'pose_Tz', 'pose_Rx', 'pose_Ry', 'pose_Rz', 'gaze_angle_x', 'gaze_angle_y', 'swAngle', 'laneDevPosition', 'laneDev_OffsetfrmLaneCentre', 'speed']\n",
      "🧮 Rows after filter: 28136\n"
     ]
    },
    {
     "name": "stderr",
     "output_type": "stream",
     "text": [
      "/var/folders/jf/5xz625d149l3v37wvyxym4hm0000gn/T/ipykernel_40939/2920426291.py:32: DtypeWarning: Columns (38) have mixed types. Specify dtype option on import or set low_memory=False.\n",
      "  df = pd.read_csv(file_path)\n"
     ]
    },
    {
     "name": "stdout",
     "output_type": "stream",
     "text": [
      "🪟 Valid windows: 186\n",
      "\n",
      "✅ Final TRAIN shape: (11750, 44)\n",
      "✅ Final TEST shape: (2785, 44)\n",
      "📊 Train columns: ['window_start', 'ID', 'Study', 'Label', 'EAR_mean_mean', 'MAR_inner_mean', 'MAR_outer_mean', 'AU01_r_mean', 'AU15_r_mean', 'AU25_r_mean', 'AU26_r_mean', 'AU45_r_mean', 'pose_Tx_mean', 'pose_Ty_mean', 'pose_Tz_mean', 'pose_Rx_mean', 'pose_Ry_mean', 'pose_Rz_mean', 'gaze_angle_x_mean', 'gaze_angle_y_mean', 'swAngle_mean', 'laneDevPosition_mean', 'laneDev_OffsetfrmLaneCentre_mean', 'speed_mean', 'EAR_mean_std', 'MAR_inner_std', 'MAR_outer_std', 'AU01_r_std', 'AU15_r_std', 'AU25_r_std', 'AU26_r_std', 'AU45_r_std', 'pose_Tx_std', 'pose_Ty_std', 'pose_Tz_std', 'pose_Rx_std', 'pose_Ry_std', 'pose_Rz_std', 'gaze_angle_x_std', 'gaze_angle_y_std', 'swAngle_std', 'laneDevPosition_std', 'laneDev_OffsetfrmLaneCentre_std', 'speed_std']\n"
     ]
    }
   ],
   "source": [
    "import os\n",
    "import pandas as pd\n",
    "\n",
    "# Paths\n",
    "data_dir = 'S1_S2_Data/Processed_S1S2_10hz'\n",
    "os.makedirs('Classification_Combined_Data', exist_ok=True)\n",
    "\n",
    "# Train/test splits\n",
    "train_ids = ['S1_P13', 'S1_P04', 'S1_P27', 'S2_P24', 'S1_P18', 'S2_P45', 'S1_P23', 'S2_P15', 'S1_P11', 'S1_P29', \n",
    "             'S2_P30', 'S2_P35', 'S1_P33', 'S2_P29', 'S1_P21', 'S1_P20', 'S2_P04', 'S1_P16', 'S2_P17', 'S2_P19',\n",
    "             'S1_P34', 'S2_P44', 'S1_P12', 'S2_P27', 'S1_P08', 'S1_P03', 'S1_P14', 'S2_P42', 'S2_P31', 'S2_P21',\n",
    "             'S1_P32', 'S2_P18', 'S2_P46', 'S2_P37', 'S2_P28', 'S2_P36', 'S2_P38', 'S1_P24', 'S2_P32', 'S1_P26',\n",
    "             'S1_P28', 'S2_P26', 'S2_P33', 'S2_P23', 'S2_P43', 'S2_P34', 'S1_P07', 'S1_P05', 'S1_P17', 'S1_P09',\n",
    "             'S2_P09']\n",
    "\n",
    "test_ids = ['S2_P12', 'S1_P15', 'S1_P31', 'S2_P22', 'S1_P19', 'S2_P39', 'S2_P48', 'S1_P35', 'S2_P40', 'S2_P41',\n",
    "            'S2_P49', 'S1_P10', 'S2_P13']\n",
    "\n",
    "# Feature setup\n",
    "selected_features = [\n",
    "    'ID','Study','Label','UNIX',\n",
    "    'EAR_mean', 'MAR_inner', 'MAR_outer',\n",
    "    'AU01_r', 'AU15_r', 'AU25_r', 'AU26_r', 'AU45_r',\n",
    "    'pose_Tx', 'pose_Ty', 'pose_Tz',\n",
    "    'pose_Rx', 'pose_Ry', 'pose_Rz',\n",
    "    'gaze_angle_x', 'gaze_angle_y',\n",
    "    'swAngle', 'laneDevPosition', 'laneDev_OffsetfrmLaneCentre', 'speed'\n",
    "]\n",
    "exclude_features = {'ID', 'Study', 'UNIX', 'Label'}\n",
    "\n",
    "def process_file(file_path, file_id):\n",
    "    df = pd.read_csv(file_path)\n",
    "\n",
    "    print(f\"\\n🔍 Processing: {file_id}\")\n",
    "\n",
    "    # Step 1: Initial filtering\n",
    "    df = df[(df['confidence'] >= 0.88) & (df['success'] == 1)]\n",
    "    if 'S2' in file_id and 'Stage' in df.columns:\n",
    "        df = df[(df['Stage'] == 'Pre-intervention') | (df['Stage'].isna())]\n",
    "\n",
    "    # Step 2: Feature filtering\n",
    "    available_features = [col for col in selected_features if col in df.columns]\n",
    "    df = df[available_features]\n",
    "    print(f\"✅ Available features: {available_features}\")\n",
    "    print(f\"🧮 Rows after filter: {df.shape[0]}\")\n",
    "\n",
    "    if df.empty:\n",
    "        return []\n",
    "\n",
    "    # Step 3: Overlapping 30s windows with 15s stride\n",
    "    results = []\n",
    "    stride = 15\n",
    "    window_size = 30\n",
    "    start_time = df['UNIX'].min()\n",
    "    end_time = df['UNIX'].max()\n",
    "    current_start = start_time\n",
    "\n",
    "    while current_start + window_size <= end_time:\n",
    "        window_end = current_start + window_size\n",
    "        group = df[(df['UNIX'] >= current_start) & (df['UNIX'] < window_end)]\n",
    "\n",
    "        if group.shape[0] < 250:\n",
    "            current_start += stride\n",
    "            continue\n",
    "\n",
    "        # Label mode\n",
    "        if 'Label' in group and group['Label'].notna().any():\n",
    "            label_mode = group['Label'].mode()\n",
    "            label = label_mode.iloc[0] if not label_mode.empty else None\n",
    "        else:\n",
    "            label = None\n",
    "\n",
    "        study = group['Study'].iloc[0] if 'Study' in group and not group['Study'].isna().all() else None\n",
    "        pid = group['ID'].iloc[0] if 'ID' in group and not group['ID'].isna().all() else None\n",
    "\n",
    "        features = [col for col in group.columns if col not in exclude_features]\n",
    "        means = group[features].mean().add_suffix('_mean').to_frame().T\n",
    "        stds = group[features].std().add_suffix('_std').to_frame().T\n",
    "\n",
    "        meta = pd.DataFrame({\n",
    "            'window_start': [current_start],\n",
    "            'ID': [pid],\n",
    "            'Study': [study],\n",
    "            'Label': [label]\n",
    "        })\n",
    "\n",
    "        row = pd.concat([meta.reset_index(drop=True), means.reset_index(drop=True), stds.reset_index(drop=True)], axis=1)\n",
    "        results.append(row)\n",
    "\n",
    "        current_start += stride\n",
    "\n",
    "    print(f\"🪟 Valid windows: {len(results)}\")\n",
    "    return results\n",
    "\n",
    "# Main collection\n",
    "train_df_list = []\n",
    "test_df_list = []\n",
    "\n",
    "for file in os.listdir(data_dir):\n",
    "    if not file.endswith(\".csv\"):\n",
    "        continue\n",
    "\n",
    "    file_id = file.replace(\".csv\", \"\")\n",
    "    file_path = os.path.join(data_dir, file)\n",
    "\n",
    "    window_dfs = process_file(file_path, file_id)\n",
    "\n",
    "    for row_df in window_dfs:\n",
    "        if file_id in train_ids:\n",
    "            train_df_list.append(row_df)\n",
    "        elif file_id in test_ids:\n",
    "            test_df_list.append(row_df)\n",
    "\n",
    "# Final merge\n",
    "train_df = pd.concat(train_df_list, ignore_index=True)\n",
    "test_df = pd.concat(test_df_list, ignore_index=True)\n",
    "\n",
    "# Final info\n",
    "print(f\"\\n✅ Final TRAIN shape: {train_df.shape}\")\n",
    "print(f\"✅ Final TEST shape: {test_df.shape}\")\n",
    "print(\"📊 Train columns:\", train_df.columns.tolist())\n",
    "\n",
    "# Save\n",
    "train_df.to_csv('Classification_Combined_Data/S1_S2_train_data.csv', index=False)\n",
    "test_df.to_csv('Classification_Combined_Data/S1_S2_test_data.csv', index=False)"
   ]
  },
  {
   "cell_type": "code",
   "execution_count": 24,
   "id": "21a3f465",
   "metadata": {},
   "outputs": [],
   "source": [
    "# Imports\n",
    "import pandas as pd\n",
    "import numpy as np\n",
    "import matplotlib.pyplot as plt\n",
    "from sklearn.preprocessing import LabelEncoder\n",
    "from sklearn.metrics import classification_report, confusion_matrix, ConfusionMatrixDisplay\n",
    "from sklearn.ensemble import RandomForestClassifier\n",
    "from sklearn.neural_network import MLPClassifier\n",
    "import xgboost as xgb\n",
    "from imblearn.over_sampling import SMOTE\n",
    "from imblearn.over_sampling import ADASYN"
   ]
  },
  {
   "cell_type": "code",
   "execution_count": 40,
   "id": "4385dfd6",
   "metadata": {},
   "outputs": [],
   "source": [
    "# # Label remapping\n",
    "# label_map = {\n",
    "#     'alert': 'alert', 'Not drowsy': 'alert', 'Not Drowsy': 'alert',\n",
    "#     'Slightly drowsy': 'slightly', 'Slightly Drowsy': 'slightly', 'slightly': 'slightly',\n",
    "#     'Moderately drowsy': 'very', 'Moderately Drowsy': 'very', 'Very drowsy': 'very',\n",
    "#     'very': 'very', 'moderately': 'very'\n",
    "# }\n",
    "\n",
    "label_map = {\n",
    "    'alert': 'alert', 'Not drowsy': 'alert', 'Not Drowsy': 'alert',\n",
    "    'Slightly drowsy': 'very', 'Slightly Drowsy': 'very', 'slightly': 'very',\n",
    "    'Moderately drowsy': 'very', 'Moderately Drowsy': 'very', 'Very drowsy': 'very',\n",
    "    'very': 'very', 'moderately': 'very'\n",
    "}\n",
    "\n",
    "# Feature list\n",
    "# features = [\n",
    "#     'EAR_mean', 'MAR_inner', 'MAR_outer',\n",
    "#     'AU01_r', 'AU15_r', 'AU25_r', 'AU26_r', 'AU45_r',\n",
    "#     'pose_Tx', 'pose_Ty', 'pose_Tz', 'pose_Rx', 'pose_Ry', 'pose_Rz',\n",
    "#     'gaze_angle_x', 'gaze_angle_y',\n",
    "#     'swAngle', 'laneDevPosition', 'laneDev_OffsetfrmLaneCentre', 'speed'\n",
    "\n",
    "features = [\n",
    "    'EAR_mean_mean', 'MAR_inner_mean', 'MAR_outer_mean', 'AU01_r_mean', 'AU15_r_mean', 'AU25_r_mean', 'AU26_r_mean',\n",
    "    'AU45_r_mean', 'pose_Tx_mean', 'pose_Ty_mean', 'pose_Tz_mean', 'pose_Rx_mean', 'pose_Ry_mean', 'pose_Rz_mean',\n",
    "    'gaze_angle_x_mean', 'gaze_angle_y_mean', 'swAngle_mean', 'laneDevPosition_mean', 'laneDev_OffsetfrmLaneCentre_mean',\n",
    "    'speed_mean', 'EAR_mean_std', 'MAR_inner_std', 'MAR_outer_std', 'AU01_r_std', 'AU15_r_std',\n",
    "    'AU25_r_std', 'AU26_r_std', 'AU45_r_std', 'pose_Tx_std', 'pose_Ty_std', 'pose_Tz_std', 'pose_Rx_std', 'pose_Ry_std',\n",
    "    'pose_Rz_std', 'gaze_angle_x_std', 'gaze_angle_y_std', 'swAngle_std', 'laneDevPosition_std',\n",
    "    'laneDev_OffsetfrmLaneCentre_std', 'speed_std'\n",
    "]"
   ]
  },
  {
   "cell_type": "code",
   "execution_count": 41,
   "id": "1a54347b",
   "metadata": {},
   "outputs": [
    {
     "data": {
      "image/png": "[encoded data removed]",
      "text/plain": [
       "<Figure size 640x480 with 1 Axes>"
      ]
     },
     "metadata": {},
     "output_type": "display_data"
    }
   ],
   "source": [
    "# Load CSVs\n",
    "train_df = pd.read_csv('Classification_Combined_Data/S1_S2_train_data.csv')\n",
    "test_df = pd.read_csv('Classification_Combined_Data/S1_S2_test_data.csv')\n",
    "\n",
    "# Apply label mapping\n",
    "train_df['Label'] = train_df['Label'].map(label_map)\n",
    "test_df['Label'] = test_df['Label'].map(label_map)\n",
    "\n",
    "# Drop any rows with unmapped labels\n",
    "train_df = train_df[train_df['Label'].notna()]\n",
    "test_df = test_df[test_df['Label'].notna()]\n",
    "\n",
    "# Features & labels\n",
    "X_train = train_df[features]\n",
    "y_train = train_df['Label']\n",
    "X_test = test_df[features]\n",
    "y_test = test_df['Label']\n",
    "\n",
    "# Encode labels\n",
    "le = LabelEncoder()\n",
    "y_train_enc = le.fit_transform(y_train)\n",
    "y_test_enc = le.transform(y_test)\n",
    "\n",
    "# Apply SMOTE\n",
    "smote = SMOTE(random_state=42)\n",
    "X_train_sm, y_train_sm = smote.fit_resample(X_train, y_train_enc)\n",
    "\n",
    "# # Apply ADASYN\n",
    "# adasyn = ADASYN(random_state=42)\n",
    "# X_train_sm, y_train_sm = adasyn.fit_resample(X_train, y_train_enc)\n",
    "\n",
    "# Display class counts after balancing\n",
    "pd.Series(y_train_sm).value_counts().plot(kind='bar', title='Balanced Classes')\n",
    "plt.xticks(ticks=range(len(le.classes_)), labels=le.classes_, rotation=0)\n",
    "plt.show()"
   ]
  },
  {
   "cell_type": "code",
   "execution_count": 42,
   "id": "4f1bea3e",
   "metadata": {},
   "outputs": [
    {
     "name": "stdout",
     "output_type": "stream",
     "text": [
      "Random Forest:\n",
      "\n",
      "              precision    recall  f1-score   support\n",
      "\n",
      "       alert       0.77      0.83      0.80      1069\n",
      "        very       0.84      0.78      0.81      1207\n",
      "\n",
      "    accuracy                           0.80      2276\n",
      "   macro avg       0.80      0.80      0.80      2276\n",
      "weighted avg       0.81      0.80      0.80      2276\n",
      "\n"
     ]
    },
    {
     "data": {
      "image/png": "[encoded data removed]",
      "text/plain": [
       "<Figure size 640x480 with 2 Axes>"
      ]
     },
     "metadata": {},
     "output_type": "display_data"
    }
   ],
   "source": [
    "rf = RandomForestClassifier(n_estimators=100, random_state=42)\n",
    "rf.fit(X_train_sm, y_train_sm)\n",
    "y_pred_rf = rf.predict(X_test)\n",
    "\n",
    "# Metrics\n",
    "print(\"Random Forest:\\n\")\n",
    "print(classification_report(y_test_enc, y_pred_rf, target_names=le.classes_))\n",
    "\n",
    "# Confusion matrix\n",
    "ConfusionMatrixDisplay.from_predictions(y_test_enc, y_pred_rf, display_labels=le.classes_, cmap='Blues')\n",
    "plt.title(\"Random Forest Confusion Matrix\")\n",
    "plt.show()"
   ]
  },
  {
   "cell_type": "code",
   "execution_count": 43,
   "id": "02aeb56b",
   "metadata": {},
   "outputs": [
    {
     "name": "stderr",
     "output_type": "stream",
     "text": [
      "/Users/aaryannagpal1/Documents/Thesis/.venv/lib/python3.13/site-packages/xgboost/training.py:183: UserWarning: [09:30:54] WARNING: /Users/runner/work/xgboost/xgboost/src/learner.cc:738: \n",
      "Parameters: { \"use_label_encoder\" } are not used.\n",
      "\n",
      "  bst.update(dtrain, iteration=i, fobj=obj)\n"
     ]
    },
    {
     "name": "stdout",
     "output_type": "stream",
     "text": [
      "XGBoost:\n",
      "\n",
      "              precision    recall  f1-score   support\n",
      "\n",
      "       alert       0.77      0.79      0.78      1069\n",
      "        very       0.81      0.79      0.80      1207\n",
      "\n",
      "    accuracy                           0.79      2276\n",
      "   macro avg       0.79      0.79      0.79      2276\n",
      "weighted avg       0.79      0.79      0.79      2276\n",
      "\n"
     ]
    },
    {
     "data": {
      "image/png": "[encoded data removed]",
      "text/plain": [
       "<Figure size 640x480 with 2 Axes>"
      ]
     },
     "metadata": {},
     "output_type": "display_data"
    }
   ],
   "source": [
    "xgb_model = xgb.XGBClassifier(use_label_encoder=False, eval_metric='mlogloss', random_state=42)\n",
    "xgb_model.fit(X_train_sm, y_train_sm)\n",
    "y_pred_xgb = xgb_model.predict(X_test)\n",
    "\n",
    "# Metrics\n",
    "print(\"XGBoost:\\n\")\n",
    "print(classification_report(y_test_enc, y_pred_xgb, target_names=le.classes_))\n",
    "\n",
    "# Confusion matrix\n",
    "ConfusionMatrixDisplay.from_predictions(y_test_enc, y_pred_xgb, display_labels=le.classes_, cmap='Oranges')\n",
    "plt.title(\"XGBoost Confusion Matrix\")\n",
    "plt.show()"
   ]
  },
  {
   "cell_type": "code",
   "execution_count": 39,
   "id": "42ab85e7",
   "metadata": {},
   "outputs": [
    {
     "name": "stdout",
     "output_type": "stream",
     "text": [
      "Iteration 1, loss = 8.88069316\n",
      "Validation score: 0.419421\n",
      "Iteration 2, loss = 1.79639730\n",
      "Validation score: 0.488636\n",
      "Iteration 3, loss = 1.04490533\n",
      "Validation score: 0.514463\n",
      "Iteration 4, loss = 0.93776599\n",
      "Validation score: 0.542355\n",
      "Iteration 5, loss = 0.90307513\n",
      "Validation score: 0.558884\n",
      "Iteration 6, loss = 0.94391033\n",
      "Validation score: 0.532025\n",
      "Iteration 7, loss = 0.91307995\n",
      "Validation score: 0.560950\n",
      "Iteration 8, loss = 0.89007855\n",
      "Validation score: 0.564050\n",
      "Iteration 9, loss = 0.86020307\n",
      "Validation score: 0.553719\n",
      "Iteration 10, loss = 0.86284019\n",
      "Validation score: 0.576446\n",
      "Iteration 11, loss = 0.91147244\n",
      "Validation score: 0.548554\n",
      "Iteration 12, loss = 0.87158795\n",
      "Validation score: 0.554752\n",
      "Iteration 13, loss = 0.85797695\n",
      "Validation score: 0.525826\n",
      "Iteration 14, loss = 0.89279497\n",
      "Validation score: 0.545455\n",
      "Iteration 15, loss = 0.89937627\n",
      "Validation score: 0.565083\n",
      "Iteration 16, loss = 0.84057719\n",
      "Validation score: 0.569215\n",
      "Iteration 17, loss = 0.85210586\n",
      "Validation score: 0.585744\n",
      "Iteration 18, loss = 1.02983690\n",
      "Validation score: 0.544421\n",
      "Iteration 19, loss = 0.98759331\n",
      "Validation score: 0.549587\n",
      "Iteration 20, loss = 0.85692650\n",
      "Validation score: 0.551653\n",
      "Iteration 21, loss = 0.82397737\n",
      "Validation score: 0.572314\n",
      "Iteration 22, loss = 0.83036918\n",
      "Validation score: 0.569215\n",
      "Iteration 23, loss = 0.87321598\n",
      "Validation score: 0.551653\n",
      "Iteration 24, loss = 0.88032121\n",
      "Validation score: 0.587810\n",
      "Iteration 25, loss = 0.83357409\n",
      "Validation score: 0.568182\n",
      "Iteration 26, loss = 0.83937928\n",
      "Validation score: 0.580579\n",
      "Iteration 27, loss = 0.87194599\n",
      "Validation score: 0.546488\n",
      "Iteration 28, loss = 0.83855229\n",
      "Validation score: 0.563017\n",
      "Iteration 29, loss = 0.83142820\n",
      "Validation score: 0.585744\n",
      "Iteration 30, loss = 0.83526650\n",
      "Validation score: 0.590909\n",
      "Iteration 31, loss = 0.86210255\n",
      "Validation score: 0.560950\n",
      "Iteration 32, loss = 0.82364326\n",
      "Validation score: 0.610537\n",
      "Iteration 33, loss = 0.82138229\n",
      "Validation score: 0.560950\n",
      "Iteration 34, loss = 0.83747373\n",
      "Validation score: 0.580579\n",
      "Iteration 35, loss = 0.83847200\n",
      "Validation score: 0.612603\n",
      "Iteration 36, loss = 0.83947810\n",
      "Validation score: 0.572314\n",
      "Iteration 37, loss = 0.87261569\n",
      "Validation score: 0.597107\n",
      "Iteration 38, loss = 0.83955542\n",
      "Validation score: 0.588843\n",
      "Iteration 39, loss = 0.79995986\n",
      "Validation score: 0.572314\n",
      "Iteration 40, loss = 0.87861767\n",
      "Validation score: 0.603306\n",
      "Iteration 41, loss = 0.80081796\n",
      "Validation score: 0.565083\n",
      "Iteration 42, loss = 0.83099365\n",
      "Validation score: 0.571281\n",
      "Iteration 43, loss = 0.82328550\n",
      "Validation score: 0.604339\n",
      "Iteration 44, loss = 0.85674797\n",
      "Validation score: 0.559917\n",
      "Iteration 45, loss = 0.84478692\n",
      "Validation score: 0.594008\n",
      "Iteration 46, loss = 0.79139103\n",
      "Validation score: 0.577479\n",
      "Validation score did not improve more than tol=0.000100 for 10 consecutive epochs. Stopping.\n",
      "MLP:\n",
      "\n",
      "              precision    recall  f1-score   support\n",
      "\n",
      "       alert       0.79      0.78      0.78      1069\n",
      "    slightly       0.41      0.49      0.45       574\n",
      "        very       0.66      0.55      0.60       633\n",
      "\n",
      "    accuracy                           0.64      2276\n",
      "   macro avg       0.62      0.61      0.61      2276\n",
      "weighted avg       0.65      0.64      0.65      2276\n",
      "\n"
     ]
    },
    {
     "data": {
      "image/png": "[encoded data removed]",
      "text/plain": [
       "<Figure size 640x480 with 2 Axes>"
      ]
     },
     "metadata": {},
     "output_type": "display_data"
    },
    {
     "data": {
      "image/png": "[encoded data removed]",
      "text/plain": [
       "<Figure size 1200x500 with 1 Axes>"
      ]
     },
     "metadata": {},
     "output_type": "display_data"
    }
   ],
   "source": [
    "from sklearn.model_selection import train_test_split\n",
    "\n",
    "# Create validation split from training set\n",
    "X_tr, X_val, y_tr, y_val = train_test_split(X_train_sm, y_train_sm, test_size=0.2, random_state=42, stratify=y_train_sm)\n",
    "\n",
    "# MLP with early stopping and verbose to track loss\n",
    "mlp = MLPClassifier(\n",
    "    hidden_layer_sizes=(64, 32),\n",
    "    max_iter=100,\n",
    "    random_state=42,\n",
    "    early_stopping=True,\n",
    "    validation_fraction=0.1,\n",
    "    verbose=True,\n",
    "    n_iter_no_change=10\n",
    ")\n",
    "\n",
    "# Fit model\n",
    "mlp.fit(X_tr, y_tr)\n",
    "\n",
    "# Predict\n",
    "y_pred_mlp = mlp.predict(X_test)\n",
    "\n",
    "# Classification report\n",
    "print(\"MLP:\\n\")\n",
    "print(classification_report(y_test_enc, y_pred_mlp, target_names=le.classes_))\n",
    "\n",
    "# Confusion matrix\n",
    "ConfusionMatrixDisplay.from_predictions(y_test_enc, y_pred_mlp, display_labels=le.classes_, cmap='Greens')\n",
    "plt.title(\"MLP Confusion Matrix\")\n",
    "plt.show()\n",
    "\n",
    "# Loss Curve\n",
    "plt.figure(figsize=(12, 5))\n",
    "\n",
    "# Loss\n",
    "plt.subplot(1, 2, 1)\n",
    "plt.plot(mlp.loss_curve_, label='Training Loss')\n",
    "plt.title(\"MLP Loss Curve\")\n",
    "plt.xlabel(\"Epochs\")\n",
    "plt.ylabel(\"Loss\")\n",
    "plt.grid(True)\n",
    "plt.legend()\n",
    "plt.tight_layout()\n",
    "plt.show()"
   ]
  }
 ],
 "metadata": {
  "kernelspec": {
   "display_name": ".venv",
   "language": "python",
   "name": "python3"
  },
  "language_info": {
   "codemirror_mode": {
    "name": "ipython",
    "version": 3
   },
   "file_extension": ".py",
   "mimetype": "text/x-python",
   "name": "python",
   "nbconvert_exporter": "python",
   "pygments_lexer": "ipython3",
   "version": "3.13.5"
  }
 },
 "nbformat": 4,
 "nbformat_minor": 5
}
